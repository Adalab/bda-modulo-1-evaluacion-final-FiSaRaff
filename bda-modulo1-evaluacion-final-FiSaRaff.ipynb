{
 "cells": [
  {
   "cell_type": "markdown",
   "metadata": {},
   "source": [
    "- A lo largo de esta evaluación tendrás que crear una clase llamada `TiendaOnline` que cumpla los siguientes requisitos:\n",
    "\n",
    "    - La clase `TiendaOnline` debe tener los siguientes atributos:\n",
    "\n",
    "        1. `inventario` \n",
    "            [{'nombre': 'Camisa', 'precio': 20, 'cantidad': 40},\n",
    "            {'nombre': 'Pantalón', 'precio': 30, 'cantidad': 30}]\n",
    "\n",
    "        2. `clientes`\n",
    "\n",
    "            ```python\n",
    "            {'Cliente1': {'email': 'cliente1@email.com', 'compras': []},\n",
    "            'Cliente2': {'email': 'cliente2@email.com', 'compras': []}}\n",
    "            ```\n",
    "\n",
    "        3. `ventas_totales` (float): Un atributo para llevar un registro de las ventas totales de la tienda. Inicializalo con valor 0. "
   ]
  },
  {
   "cell_type": "markdown",
   "metadata": {},
   "source": [
    "1. `agregar_producto(self, nombre, precio, cantidad)`: Este método agrega un producto al inventario o actualiza su cantidad si ya existe. Debe recibir el nombre, precio y cantidad del producto como parámetros. \n",
    "\n",
    "            - Itera a través del inventario y compara los nombres de los productos con el nombre proporcionado.\n",
    "\n",
    "            - Si el producto ya existe, actualiza la cantidad.\n",
    "\n",
    "            - Si no existe, agrega un nuevo producto al inventario."
   ]
  },
  {
   "cell_type": "markdown",
   "metadata": {},
   "source": [
    "`actualizar_stock(self, nombre, cantidad)`: Actualiza el stock de un producto en el inventario. Debe recibir el nombre del producto y la cantidad a agregar o quitar como parámetros.\n",
    "\n",
    "           - Utiliza un bucle `for` para recorrer el inventario.\n",
    "\n",
    "           - Busca el producto por nombre.\n",
    "\n",
    "           - Actualiza la cantidad según la entrada del usuario.\n",
    "\n",
    "           - Si el producto no esta en el inventario muestra un mensaje indicándolo. "
   ]
  },
  {
   "cell_type": "code",
   "execution_count": 1070,
   "metadata": {},
   "outputs": [],
   "source": [
    "class TiendaOnline:\n",
    "    \n",
    "    def __init__(self, nombre):\n",
    "\n",
    "        self.nombre = nombre\n",
    "        self.inventario = []\n",
    "        self.clientes = {}\n",
    "        self.ventas_totales = 0.0 \n",
    "\n",
    "    def adding_products(self, nombre, precio, cantidad):\n",
    "        \n",
    "        \"\"\"This method adds products and updates existing stock\"\"\"\n",
    "\n",
    "        existe = False # comprobar si la value \"nombre\" de cada diccionario coincide\n",
    "\n",
    "        for producto in self.inventario: # iterando cada diccionario de la lista\n",
    "            if nombre == producto['nombre']: # comparando value de \"nombre\" en cada diccionario\n",
    "                existe = True\n",
    "                producto['cantidad'] += cantidad\n",
    "                print(\"El producto ya existe\")\n",
    "                break #paro bucle para que deje de iterar\n",
    "        if existe == False: # si no pasa nada de de lo de arriba, hago un append del diccionario al Inventario\n",
    "            self.inventario.append({'nombre': nombre, 'precio': precio, 'cantidad': cantidad})\n",
    "    \n",
    "    def ver_inventario(self):\n",
    "        for producto in self.inventario:\n",
    "            print(f\"El inventario contiene {self.inventario}\")\n",
    "            break\n",
    "    \n",
    "    def busca_producto(self, nombre):\n",
    "        for producto in self.inventario:\n",
    "            if nombre in producto['nombre']:\n",
    "                print(producto)   \n",
    "    \n",
    "    def actualizar_stock(self, nombre, cantidad):\n",
    "\n",
    "        existe = False\n",
    "\n",
    "        for producto in self.inventario:\n",
    "            if nombre == producto['nombre']:\n",
    "                existe = True\n",
    "                producto['cantidad'] += cantidad\n",
    "                break\n",
    "\n",
    "        if existe == False:\n",
    "            print(f\"El producto llamado {nombre} no existe en el inventario\")\n",
    "    \n",
    "    def eliminar_producto(self, nombre):\n",
    "\n",
    "        existe = False\n",
    "\n",
    "        for producto in self.inventario:\n",
    "            if nombre == producto['nombre']:\n",
    "                existe = True\n",
    "                self.inventario.remove(producto)\n",
    "                break\n",
    "\n",
    "        if existe == False:\n",
    "            print(f\"El producto llamado {nombre} no existe en el inventario\")\n",
    "    \n",
    "    def calcular_valor_inventario(self):\n",
    "\n",
    "        total_precio = 0\n",
    "\n",
    "        for producto in self.inventario:\n",
    "            total_precio += (producto['cantidad'] * producto['precio']) \n",
    "        return total_precio\n",
    "    \n",
    "    def realizar_compra(self):\n",
    "        \n",
    "        self.ver_inventario()\n",
    "        carrito = []\n",
    "        coste_total = 0\n",
    "        while True: #REVISAR ESTA ENTERA\n",
    "            for producto in self.inventario:\n",
    "                compra = input(\"Indica el nombre del producto que deseas comprar\").strip().lower()\n",
    "                cantidad = int(input(\"¿Qué cantidad quieres comprar?\"))\n",
    "                if compra in producto['nombre']: \n",
    "                    producto['cantidad'] -= cantidad\n",
    "                    carrito.append((producto[\"nombre\"], producto['cantidad'])) #se debería añadir a la lista reemplazando el producto si ya está y actualizando la cantidad.x                \n",
    "                    for item in carrito:\n",
    "                        if item[0] == producto['nombre']:\n",
    "                            producto['cantidad'] -= cantidad\n",
    "                            if carrito(producto['cantidad']) < 0:\n",
    "                                producto['cantidad'] = 0\n",
    "                                print(carrito)\n",
    "                                break\n",
    "                if producto['cantidad'] < cantidad:\n",
    "                    print(f\"Los sentimos, no hay suficiente stock del producto {producto['nombre']} actualmente.\")\n",
    "            self.ver_inventario()\n",
    "            if not producto in self.inventario:\n",
    "                    print (f\"Lo sentimos. No tenemos el producto {producto['nombre']} en stock.\")\n",
    "                \n",
    "            seguir_comprando = input(\"¿Quieres seguir comprando si/no?\").strip().lower()\n",
    "            if seguir_comprando != \"si\":\n",
    "                break    "
   ]
  },
  {
   "cell_type": "code",
   "execution_count": 1071,
   "metadata": {},
   "outputs": [],
   "source": [
    "Tienda1 = TiendaOnline(\"Hipercor\")"
   ]
  },
  {
   "cell_type": "code",
   "execution_count": 1072,
   "metadata": {},
   "outputs": [],
   "source": [
    "Tienda1.adding_products(\"jersey\", 60, 10)"
   ]
  },
  {
   "cell_type": "code",
   "execution_count": 1073,
   "metadata": {},
   "outputs": [
    {
     "data": {
      "text/plain": [
       "[{'nombre': 'jersey', 'precio': 60, 'cantidad': 10}]"
      ]
     },
     "execution_count": 1073,
     "metadata": {},
     "output_type": "execute_result"
    }
   ],
   "source": [
    "Tienda1.inventario"
   ]
  },
  {
   "cell_type": "code",
   "execution_count": 1074,
   "metadata": {},
   "outputs": [
    {
     "name": "stdout",
     "output_type": "stream",
     "text": [
      "El inventario contiene [{'nombre': 'jersey', 'precio': 60, 'cantidad': 10}]\n"
     ]
    }
   ],
   "source": [
    "Tienda1.ver_inventario()"
   ]
  },
  {
   "cell_type": "code",
   "execution_count": 1075,
   "metadata": {},
   "outputs": [
    {
     "name": "stdout",
     "output_type": "stream",
     "text": [
      "{'nombre': 'jersey', 'precio': 60, 'cantidad': 10}\n"
     ]
    }
   ],
   "source": [
    "Tienda1.busca_producto(\"jersey\")"
   ]
  },
  {
   "cell_type": "code",
   "execution_count": 1076,
   "metadata": {},
   "outputs": [
    {
     "name": "stdout",
     "output_type": "stream",
     "text": [
      "El producto llamado camiseta no existe en el inventario\n"
     ]
    }
   ],
   "source": [
    "Tienda1.actualizar_stock(\"camiseta\", 10)"
   ]
  },
  {
   "cell_type": "code",
   "execution_count": 1077,
   "metadata": {},
   "outputs": [
    {
     "name": "stdout",
     "output_type": "stream",
     "text": [
      "El inventario contiene [{'nombre': 'jersey', 'precio': 60, 'cantidad': 10}]\n"
     ]
    }
   ],
   "source": [
    "Tienda1.ver_inventario()"
   ]
  },
  {
   "cell_type": "code",
   "execution_count": 1078,
   "metadata": {},
   "outputs": [
    {
     "name": "stdout",
     "output_type": "stream",
     "text": [
      "El producto llamado camiseta no existe en el inventario\n"
     ]
    }
   ],
   "source": [
    "Tienda1.eliminar_producto('camiseta')"
   ]
  },
  {
   "cell_type": "code",
   "execution_count": 1079,
   "metadata": {},
   "outputs": [
    {
     "name": "stdout",
     "output_type": "stream",
     "text": [
      "El inventario contiene [{'nombre': 'jersey', 'precio': 60, 'cantidad': 10}]\n"
     ]
    }
   ],
   "source": [
    "Tienda1.ver_inventario()"
   ]
  },
  {
   "cell_type": "code",
   "execution_count": 1080,
   "metadata": {},
   "outputs": [
    {
     "data": {
      "text/plain": [
       "600"
      ]
     },
     "execution_count": 1080,
     "metadata": {},
     "output_type": "execute_result"
    }
   ],
   "source": [
    "Tienda1.calcular_valor_inventario()"
   ]
  },
  {
   "cell_type": "code",
   "execution_count": 1081,
   "metadata": {},
   "outputs": [
    {
     "name": "stdout",
     "output_type": "stream",
     "text": [
      "El inventario contiene [{'nombre': 'jersey', 'precio': 60, 'cantidad': 10}]\n"
     ]
    },
    {
     "ename": "TypeError",
     "evalue": "'list' object is not callable",
     "output_type": "error",
     "traceback": [
      "\u001b[0;31m---------------------------------------------------------------------------\u001b[0m",
      "\u001b[0;31mTypeError\u001b[0m                                 Traceback (most recent call last)",
      "Cell \u001b[0;32mIn[1081], line 1\u001b[0m\n\u001b[0;32m----> 1\u001b[0m \u001b[43mTienda1\u001b[49m\u001b[38;5;241;43m.\u001b[39;49m\u001b[43mrealizar_compra\u001b[49m\u001b[43m(\u001b[49m\u001b[43m)\u001b[49m\n",
      "Cell \u001b[0;32mIn[1070], line 84\u001b[0m, in \u001b[0;36mTiendaOnline.realizar_compra\u001b[0;34m(self)\u001b[0m\n\u001b[1;32m     82\u001b[0m \u001b[38;5;28;01mif\u001b[39;00m item[\u001b[38;5;241m0\u001b[39m] \u001b[38;5;241m==\u001b[39m producto[\u001b[38;5;124m'\u001b[39m\u001b[38;5;124mnombre\u001b[39m\u001b[38;5;124m'\u001b[39m]:\n\u001b[1;32m     83\u001b[0m     producto[\u001b[38;5;124m'\u001b[39m\u001b[38;5;124mcantidad\u001b[39m\u001b[38;5;124m'\u001b[39m] \u001b[38;5;241m-\u001b[39m\u001b[38;5;241m=\u001b[39m cantidad\n\u001b[0;32m---> 84\u001b[0m     \u001b[38;5;28;01mif\u001b[39;00m \u001b[43mcarrito\u001b[49m\u001b[43m(\u001b[49m\u001b[43mproducto\u001b[49m\u001b[43m[\u001b[49m\u001b[38;5;124;43m'\u001b[39;49m\u001b[38;5;124;43mcantidad\u001b[39;49m\u001b[38;5;124;43m'\u001b[39;49m\u001b[43m]\u001b[49m\u001b[43m)\u001b[49m \u001b[38;5;241m<\u001b[39m \u001b[38;5;241m0\u001b[39m:\n\u001b[1;32m     85\u001b[0m         producto[\u001b[38;5;124m'\u001b[39m\u001b[38;5;124mcantidad\u001b[39m\u001b[38;5;124m'\u001b[39m] \u001b[38;5;241m=\u001b[39m \u001b[38;5;241m0\u001b[39m\n\u001b[1;32m     86\u001b[0m         \u001b[38;5;28mprint\u001b[39m(carrito)\n",
      "\u001b[0;31mTypeError\u001b[0m: 'list' object is not callable"
     ]
    }
   ],
   "source": [
    "Tienda1.realizar_compra()"
   ]
  }
 ],
 "metadata": {
  "kernelspec": {
   "display_name": "Python 3",
   "language": "python",
   "name": "python3"
  },
  "language_info": {
   "codemirror_mode": {
    "name": "ipython",
    "version": 3
   },
   "file_extension": ".py",
   "mimetype": "text/x-python",
   "name": "python",
   "nbconvert_exporter": "python",
   "pygments_lexer": "ipython3",
   "version": "3.9.6"
  }
 },
 "nbformat": 4,
 "nbformat_minor": 2
}

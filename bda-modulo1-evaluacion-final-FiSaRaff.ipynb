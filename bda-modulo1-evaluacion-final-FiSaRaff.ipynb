{
 "cells": [
  {
   "cell_type": "markdown",
   "metadata": {},
   "source": [
    "- A lo largo de esta evaluación tendrás que crear una clase llamada `TiendaOnline` que cumpla los siguientes requisitos:\n",
    "\n",
    "    - La clase `TiendaOnline` debe tener los siguientes atributos:\n",
    "\n",
    "        1. `inventario` \n",
    "            [{'nombre': 'Camisa', 'precio': 20, 'cantidad': 40},\n",
    "            {'nombre': 'Pantalón', 'precio': 30, 'cantidad': 30}]\n",
    "\n",
    "        2. `clientes`\n",
    "\n",
    "            ```python\n",
    "            {'Cliente1': {'email': 'cliente1@email.com', 'compras': []},\n",
    "            'Cliente2': {'email': 'cliente2@email.com', 'compras': []}}\n",
    "            ```\n",
    "\n",
    "        3. `ventas_totales` (float): Un atributo para llevar un registro de las ventas totales de la tienda. Inicializalo con valor 0. "
   ]
  },
  {
   "cell_type": "markdown",
   "metadata": {},
   "source": [
    "1. `agregar_producto(self, nombre, precio, cantidad)`: Este método agrega un producto al inventario o actualiza su cantidad si ya existe. Debe recibir el nombre, precio y cantidad del producto como parámetros. \n",
    "\n",
    "            - Itera a través del inventario y compara los nombres de los productos con el nombre proporcionado.\n",
    "\n",
    "            - Si el producto ya existe, actualiza la cantidad.\n",
    "\n",
    "            - Si no existe, agrega un nuevo producto al inventario."
   ]
  },
  {
   "cell_type": "markdown",
   "metadata": {},
   "source": [
    "`actualizar_stock(self, nombre, cantidad)`: Actualiza el stock de un producto en el inventario. Debe recibir el nombre del producto y la cantidad a agregar o quitar como parámetros.\n",
    "\n",
    "           - Utiliza un bucle `for` para recorrer el inventario.\n",
    "\n",
    "           - Busca el producto por nombre.\n",
    "\n",
    "           - Actualiza la cantidad según la entrada del usuario.\n",
    "\n",
    "           - Si el producto no esta en el inventario muestra un mensaje indicándolo. "
   ]
  },
  {
   "cell_type": "code",
   "execution_count": 334,
   "metadata": {},
   "outputs": [],
   "source": [
    "class TiendaOnline:\n",
    "    \n",
    "    def __init__(self, nombre):\n",
    "\n",
    "        self.nombre = nombre\n",
    "        self.inventario = []\n",
    "        self.clientes = {}\n",
    "        self.ventas_totales = 0.0 \n",
    "\n",
    "    def adding_products(self, nombre, precio, cantidad):\n",
    "        \n",
    "        \"\"\"This method adds products and updates existing stock\"\"\"\n",
    "\n",
    "        existe = False # comprobar si la value \"nombre\" de cada diccionario coincide\n",
    "\n",
    "        for producto in self.inventario: # iterando cada diccionario de la lista\n",
    "            if nombre == producto['nombre']: # comparando value de \"nombre\" en cada diccionario\n",
    "                existe = True\n",
    "                producto['cantidad'] += cantidad\n",
    "                print(\"El producto ya existe\")\n",
    "                break #paro bucle para que deje de iterar\n",
    "        if existe == False: # si no pasa nada de de lo de arriba, hago un append del diccionario al Inventario\n",
    "            self.inventario.append({'nombre': nombre, 'precio': precio, 'cantidad': cantidad})\n",
    "    \n",
    "    def ver_inventario(self):\n",
    "        for producto in self.inventario:\n",
    "            print(f\"El inventario contiene {self.inventario}\")\n",
    "            break\n",
    "    \n",
    "    def busca_producto(self, nombre):\n",
    "        for producto in self.inventario:\n",
    "            if nombre in producto['nombre']:\n",
    "                print(producto)   \n",
    "    \n",
    "    def actualizar_stock(self, nombre, cantidad):\n",
    "\n",
    "        existe = False\n",
    "\n",
    "        for producto in self.inventario:\n",
    "            if nombre == producto['nombre']:\n",
    "                existe = True\n",
    "                producto['cantidad'] += cantidad\n",
    "                break\n",
    "\n",
    "        if existe == False:\n",
    "            print(f\"El producto llamado {nombre} no existe en el inventario\")\n",
    "    \n",
    "    def eliminar_producto(self, nombre):\n",
    "\n",
    "        existe = False\n",
    "\n",
    "        for producto in self.inventario:\n",
    "            if nombre == producto['nombre']:\n",
    "                existe = True\n",
    "                self.inventario.remove(producto)\n",
    "                break\n",
    "\n",
    "        if existe == False:\n",
    "            print(f\"El producto llamado {nombre} no existe en el inventario\")\n",
    "    \n",
    "    def calcular_valor_inventario(self):\n",
    "\n",
    "        total_precio = 0\n",
    "\n",
    "        for producto in self.inventario:\n",
    "            total_precio += (producto['cantidad'] * producto['precio']) \n",
    "        return total_precio\n",
    "    \n",
    "    def realizar_compra(self):\n",
    "\n",
    "        carrito = []\n",
    "        coste_total = 0\n",
    "\n",
    "        while True: #REVISAR ESTA ENTERA\n",
    "            self.ver_inventario()\n",
    "            comrpa = input(\"Selecciona el nombre del producto del inventario que deseas comprar\")\n",
    "            for producto in self.inventario:\n",
    "                if comrpa in producto['nombre']:\n",
    "                    carrito.append(producto)\n",
    "                    producto['cantidad'] -= 1\n",
    "                if comrpa not in producto['nombre']:\n",
    "                    print(f\"El producto {comrpa} no está en stock actualmente\")\n",
    "                break\n",
    "\n",
    "    \n",
    "            "
   ]
  },
  {
   "cell_type": "code",
   "execution_count": 335,
   "metadata": {},
   "outputs": [],
   "source": [
    "Tienda1 = TiendaOnline(\"Hipercor\")"
   ]
  },
  {
   "cell_type": "code",
   "execution_count": 336,
   "metadata": {},
   "outputs": [],
   "source": [
    "Tienda1.adding_products(\"pantalón\", 60, 10)"
   ]
  },
  {
   "cell_type": "code",
   "execution_count": 337,
   "metadata": {},
   "outputs": [
    {
     "data": {
      "text/plain": [
       "[{'nombre': 'pantalón', 'precio': 60, 'cantidad': 10}]"
      ]
     },
     "execution_count": 337,
     "metadata": {},
     "output_type": "execute_result"
    }
   ],
   "source": [
    "Tienda1.inventario"
   ]
  },
  {
   "cell_type": "code",
   "execution_count": 338,
   "metadata": {},
   "outputs": [
    {
     "name": "stdout",
     "output_type": "stream",
     "text": [
      "El inventario contiene [{'nombre': 'pantalón', 'precio': 60, 'cantidad': 10}]\n"
     ]
    }
   ],
   "source": [
    "Tienda1.ver_inventario()"
   ]
  },
  {
   "cell_type": "code",
   "execution_count": 339,
   "metadata": {},
   "outputs": [],
   "source": [
    "Tienda1.busca_producto(\"camisa\")"
   ]
  },
  {
   "cell_type": "code",
   "execution_count": 340,
   "metadata": {},
   "outputs": [
    {
     "name": "stdout",
     "output_type": "stream",
     "text": [
      "El producto llamado camiseta no existe en el inventario\n"
     ]
    }
   ],
   "source": [
    "Tienda1.actualizar_stock(\"camiseta\", 10)"
   ]
  },
  {
   "cell_type": "code",
   "execution_count": 341,
   "metadata": {},
   "outputs": [
    {
     "name": "stdout",
     "output_type": "stream",
     "text": [
      "El inventario contiene [{'nombre': 'pantalón', 'precio': 60, 'cantidad': 10}]\n"
     ]
    }
   ],
   "source": [
    "Tienda1.ver_inventario()"
   ]
  },
  {
   "cell_type": "code",
   "execution_count": 342,
   "metadata": {},
   "outputs": [
    {
     "name": "stdout",
     "output_type": "stream",
     "text": [
      "El producto llamado camiseta no existe en el inventario\n"
     ]
    }
   ],
   "source": [
    "Tienda1.eliminar_producto('camiseta')"
   ]
  },
  {
   "cell_type": "code",
   "execution_count": 343,
   "metadata": {},
   "outputs": [
    {
     "name": "stdout",
     "output_type": "stream",
     "text": [
      "El inventario contiene [{'nombre': 'pantalón', 'precio': 60, 'cantidad': 10}]\n"
     ]
    }
   ],
   "source": [
    "Tienda1.ver_inventario()"
   ]
  },
  {
   "cell_type": "code",
   "execution_count": 344,
   "metadata": {},
   "outputs": [
    {
     "data": {
      "text/plain": [
       "600"
      ]
     },
     "execution_count": 344,
     "metadata": {},
     "output_type": "execute_result"
    }
   ],
   "source": [
    "Tienda1.calcular_valor_inventario()"
   ]
  },
  {
   "cell_type": "code",
   "execution_count": null,
   "metadata": {},
   "outputs": [],
   "source": []
  },
  {
   "cell_type": "code",
   "execution_count": 345,
   "metadata": {},
   "outputs": [
    {
     "name": "stdout",
     "output_type": "stream",
     "text": [
      "El inventario contiene [{'nombre': 'pantalón', 'precio': 60, 'cantidad': 10}]\n"
     ]
    },
    {
     "ename": "KeyboardInterrupt",
     "evalue": "Interrupted by user",
     "output_type": "error",
     "traceback": [
      "\u001b[0;31m---------------------------------------------------------------------------\u001b[0m",
      "\u001b[0;31mKeyboardInterrupt\u001b[0m                         Traceback (most recent call last)",
      "Cell \u001b[0;32mIn[345], line 1\u001b[0m\n\u001b[0;32m----> 1\u001b[0m \u001b[43mTienda1\u001b[49m\u001b[38;5;241;43m.\u001b[39;49m\u001b[43mrealizar_compra\u001b[49m\u001b[43m(\u001b[49m\u001b[43m)\u001b[49m\n",
      "Cell \u001b[0;32mIn[334], line 76\u001b[0m, in \u001b[0;36mTiendaOnline.realizar_compra\u001b[0;34m(self)\u001b[0m\n\u001b[1;32m     74\u001b[0m \u001b[38;5;28;01mwhile\u001b[39;00m \u001b[38;5;28;01mTrue\u001b[39;00m:\n\u001b[1;32m     75\u001b[0m     \u001b[38;5;28mself\u001b[39m\u001b[38;5;241m.\u001b[39mver_inventario()\n\u001b[0;32m---> 76\u001b[0m     comrpa \u001b[38;5;241m=\u001b[39m \u001b[38;5;28;43minput\u001b[39;49m\u001b[43m(\u001b[49m\u001b[38;5;124;43m\"\u001b[39;49m\u001b[38;5;124;43mSelecciona el nombre del producto del inventario que deseas comprar\u001b[39;49m\u001b[38;5;124;43m\"\u001b[39;49m\u001b[43m)\u001b[49m\n\u001b[1;32m     77\u001b[0m     \u001b[38;5;28;01mfor\u001b[39;00m producto \u001b[38;5;129;01min\u001b[39;00m \u001b[38;5;28mself\u001b[39m\u001b[38;5;241m.\u001b[39minventario:\n\u001b[1;32m     78\u001b[0m         \u001b[38;5;28;01mif\u001b[39;00m comrpa \u001b[38;5;129;01min\u001b[39;00m producto[\u001b[38;5;124m'\u001b[39m\u001b[38;5;124mnombre\u001b[39m\u001b[38;5;124m'\u001b[39m]:\n",
      "File \u001b[0;32m~/Library/Python/3.9/lib/python/site-packages/ipykernel/kernelbase.py:1282\u001b[0m, in \u001b[0;36mKernel.raw_input\u001b[0;34m(self, prompt)\u001b[0m\n\u001b[1;32m   1280\u001b[0m     msg \u001b[38;5;241m=\u001b[39m \u001b[38;5;124m\"\u001b[39m\u001b[38;5;124mraw_input was called, but this frontend does not support input requests.\u001b[39m\u001b[38;5;124m\"\u001b[39m\n\u001b[1;32m   1281\u001b[0m     \u001b[38;5;28;01mraise\u001b[39;00m StdinNotImplementedError(msg)\n\u001b[0;32m-> 1282\u001b[0m \u001b[38;5;28;01mreturn\u001b[39;00m \u001b[38;5;28;43mself\u001b[39;49m\u001b[38;5;241;43m.\u001b[39;49m\u001b[43m_input_request\u001b[49m\u001b[43m(\u001b[49m\n\u001b[1;32m   1283\u001b[0m \u001b[43m    \u001b[49m\u001b[38;5;28;43mstr\u001b[39;49m\u001b[43m(\u001b[49m\u001b[43mprompt\u001b[49m\u001b[43m)\u001b[49m\u001b[43m,\u001b[49m\n\u001b[1;32m   1284\u001b[0m \u001b[43m    \u001b[49m\u001b[38;5;28;43mself\u001b[39;49m\u001b[38;5;241;43m.\u001b[39;49m\u001b[43m_parent_ident\u001b[49m\u001b[43m[\u001b[49m\u001b[38;5;124;43m\"\u001b[39;49m\u001b[38;5;124;43mshell\u001b[39;49m\u001b[38;5;124;43m\"\u001b[39;49m\u001b[43m]\u001b[49m\u001b[43m,\u001b[49m\n\u001b[1;32m   1285\u001b[0m \u001b[43m    \u001b[49m\u001b[38;5;28;43mself\u001b[39;49m\u001b[38;5;241;43m.\u001b[39;49m\u001b[43mget_parent\u001b[49m\u001b[43m(\u001b[49m\u001b[38;5;124;43m\"\u001b[39;49m\u001b[38;5;124;43mshell\u001b[39;49m\u001b[38;5;124;43m\"\u001b[39;49m\u001b[43m)\u001b[49m\u001b[43m,\u001b[49m\n\u001b[1;32m   1286\u001b[0m \u001b[43m    \u001b[49m\u001b[43mpassword\u001b[49m\u001b[38;5;241;43m=\u001b[39;49m\u001b[38;5;28;43;01mFalse\u001b[39;49;00m\u001b[43m,\u001b[49m\n\u001b[1;32m   1287\u001b[0m \u001b[43m\u001b[49m\u001b[43m)\u001b[49m\n",
      "File \u001b[0;32m~/Library/Python/3.9/lib/python/site-packages/ipykernel/kernelbase.py:1325\u001b[0m, in \u001b[0;36mKernel._input_request\u001b[0;34m(self, prompt, ident, parent, password)\u001b[0m\n\u001b[1;32m   1322\u001b[0m \u001b[38;5;28;01mexcept\u001b[39;00m \u001b[38;5;167;01mKeyboardInterrupt\u001b[39;00m:\n\u001b[1;32m   1323\u001b[0m     \u001b[38;5;66;03m# re-raise KeyboardInterrupt, to truncate traceback\u001b[39;00m\n\u001b[1;32m   1324\u001b[0m     msg \u001b[38;5;241m=\u001b[39m \u001b[38;5;124m\"\u001b[39m\u001b[38;5;124mInterrupted by user\u001b[39m\u001b[38;5;124m\"\u001b[39m\n\u001b[0;32m-> 1325\u001b[0m     \u001b[38;5;28;01mraise\u001b[39;00m \u001b[38;5;167;01mKeyboardInterrupt\u001b[39;00m(msg) \u001b[38;5;28;01mfrom\u001b[39;00m \u001b[38;5;28;01mNone\u001b[39;00m\n\u001b[1;32m   1326\u001b[0m \u001b[38;5;28;01mexcept\u001b[39;00m \u001b[38;5;167;01mException\u001b[39;00m:\n\u001b[1;32m   1327\u001b[0m     \u001b[38;5;28mself\u001b[39m\u001b[38;5;241m.\u001b[39mlog\u001b[38;5;241m.\u001b[39mwarning(\u001b[38;5;124m\"\u001b[39m\u001b[38;5;124mInvalid Message:\u001b[39m\u001b[38;5;124m\"\u001b[39m, exc_info\u001b[38;5;241m=\u001b[39m\u001b[38;5;28;01mTrue\u001b[39;00m)\n",
      "\u001b[0;31mKeyboardInterrupt\u001b[0m: Interrupted by user"
     ]
    }
   ],
   "source": [
    "Tienda1.realizar_compra()"
   ]
  }
 ],
 "metadata": {
  "kernelspec": {
   "display_name": "Python 3",
   "language": "python",
   "name": "python3"
  },
  "language_info": {
   "codemirror_mode": {
    "name": "ipython",
    "version": 3
   },
   "file_extension": ".py",
   "mimetype": "text/x-python",
   "name": "python",
   "nbconvert_exporter": "python",
   "pygments_lexer": "ipython3",
   "version": "3.9.6"
  }
 },
 "nbformat": 4,
 "nbformat_minor": 2
}

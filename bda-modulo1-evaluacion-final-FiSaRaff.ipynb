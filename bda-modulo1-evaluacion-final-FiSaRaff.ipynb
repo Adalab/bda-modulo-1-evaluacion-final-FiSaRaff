{
 "cells": [
  {
   "cell_type": "markdown",
   "metadata": {},
   "source": [
    "# Evaluación Final Módulo 1\n",
    "\n",
    "## Instrucciones:\n",
    "\n",
    "- Antes de empezar, hay que crear un nuevo repositorio desde GitHub Classroom usando este [enlace](https://classroom.github.com/a/irgzJ0KJ). Una vez creado, hay que clonar en nuestro ordenador y en la carpeta creada empezaremos a trabajar en el ejercicio.\n",
    "\n",
    "- Esta evaluación consta de una serie de preguntas que evalúan tu comprensión y habilidades en relación con funciones, clases y regex.\n",
    "\n",
    "- Puedes usar recursos externos, incluyendo internet y materiales de referencia o tus propias notas.\n",
    "\n",
    "- Completa los ejercicios en un jupyter notebook.\n",
    "\n",
    "\n",
    "\n",
    "## Ejercicio\n",
    "\n",
    "- A lo largo de esta evaluación tendrás que crear una clase llamada `TiendaOnline` que cumpla los siguientes requisitos:\n",
    "\n",
    "    - La clase `TiendaOnline` debe tener los siguientes atributos:\n",
    "\n",
    "        1. `inventario` (lista de diccionarios): Un atributo para almacenar los productos en el inventario. Cada producto debe ser representado como un diccionario con las siguientes claves: `'nombre'`, `'precio'`, y `'cantidad'`. Al principio deberá ser una lista vacía. Ejemplo de como debería ser:\n",
    "\n",
    "            ```python\n",
    "            [{'nombre': 'Camisa', 'precio': 20, 'cantidad': 40},\n",
    "            {'nombre': 'Pantalón', 'precio': 30, 'cantidad': 30}]\n",
    "            ```\n",
    "\n",
    "        2. `clientes` (diccionario): Un atributo para llevar un registro de los clientes de la tienda. Cada cliente debe ser representado como un diccionario con las siguientes claves: `'nombre'` y `'email'`. Al inicio deberá ser un diccionario vacío. Además, cada cliente debe tener un historial de compras. Deberá parecerse a:\n",
    "\n",
    "            ```python\n",
    "            {'Cliente1': {'email': 'cliente1@email.com', 'compras': []},\n",
    "            'Cliente2': {'email': 'cliente2@email.com', 'compras': []}}\n",
    "            ```\n",
    "\n",
    "        3. `ventas_totales` (float): Un atributo para llevar un registro de las ventas totales de la tienda. Inicializalo con valor 0. \n",
    "\n",
    "    - La clase `TiendaOnline` debe tener los siguientes métodos:\n",
    "\n",
    "        1. `agregar_producto(self, nombre, precio, cantidad)`: Este método agrega un producto al inventario o actualiza su cantidad si ya existe. Debe recibir el nombre, precio y cantidad del producto como parámetros. \n",
    "\n",
    "            - Itera a través del inventario y compara los nombres de los productos con el nombre proporcionado.\n",
    "\n",
    "            - Si el producto ya existe, actualiza la cantidad.\n",
    "\n",
    "            - Si no existe, agrega un nuevo producto al inventario.\n",
    "\n",
    "        2. `ver_inventario(self)`: Muestra el inventario de productos con sus detalles.\n",
    "\n",
    "            - Utiliza un bucle `for` para recorrer el inventario.\n",
    "\n",
    "            - Imprime los detalles (nombre, precio, cantidad) de cada producto.\n",
    "\n",
    "            - Debería verse:\n",
    "\n",
    "                ```python\n",
    "                Nombre: Camisa, Precio: $20, Cantidad: 50\n",
    "                Nombre: Pantalón, Precio: $30, Cantidad: 30\n",
    "                Nombre: Zapatos, Precio: $50, Cantidad: 40\n",
    "                Nombre: Camisa, Precio: $20, Cantidad: 50\n",
    "                ```\n",
    "\n",
    "        3. `buscar_producto(self, nombre)`: Busca un producto en el inventario por nombre y muestra sus detalles si se encuentra. Debe recibir el nombre del producto como parámetro.\n",
    "\n",
    "            - Utiliza un bucle `for` para recorrer el inventario.\n",
    "\n",
    "            - Compara los nombres de los productos con el nombre proporcionado.\n",
    "\n",
    "            - Si se encuentra el producto, imprime sus detalles.\n",
    "\n",
    "            - Debe mostrar:\n",
    "\n",
    "                ```python\n",
    "                Nombre: Camisa, Precio: $20, Cantidad: 40\n",
    "                ```\n",
    "        4. `actualizar_stock(self, nombre, cantidad)`: Actualiza el stock de un producto en el inventario. Debe recibir el nombre del producto y la cantidad a agregar o quitar como parámetros.\n",
    "\n",
    "           - Utiliza un bucle `for` para recorrer el inventario.\n",
    "\n",
    "           - Busca el producto por nombre.\n",
    "\n",
    "           - Actualiza la cantidad según la entrada del usuario.\n",
    "\n",
    "           - Si el producto no esta en el inventario muestra un mensaje indicándolo. \n",
    "\n",
    "        5. `eliminar_producto(self, nombre)`: Elimina un producto del inventario por nombre. Debe recibir el nombre del producto como parámetro.\n",
    "\n",
    "            - Utiliza un bucle `for` para recorrer el inventario.\n",
    "\n",
    "            - Busca el producto por nombre.\n",
    "\n",
    "            - Elimina el producto del inventario si existe.\n",
    "\n",
    "            - Si el producto no esta en el inventario muestra un mensaje indicándolo. \n",
    "\n",
    "\n",
    "        6. `calcular_valor_inventario(self)`: Calcula y muestra el valor total del inventario.\n",
    "\n",
    "            - Utiliza un bucle for para calcular el valor total del inventario.\n",
    "\n",
    "            - Itera a través del inventario y suma el valor de cada producto (precio x cantidad). Es decir, calcula el valor total del inventario. Ejemplo:\n",
    "\n",
    "                ```python\n",
    "                # si tenemos 5 camisas que valen 5 euros \n",
    "                # y 10 calcetines que valen 1 euro\n",
    "                # este método te tiene que devolver: 35 euros\n",
    "\n",
    "                valor_camisas = 5 * 5\n",
    "                valor_calcetines = 10 * 1\n",
    "\n",
    "                valor_camisas + valor_calcetines = 35\n",
    "                ```\n",
    "\n",
    "\n",
    "        7. `realizar_compra(self)`: Permite a un cliente realizar una compra seleccionando productos del inventario. Debe interactuar con el cliente para seleccionar productos y calcular el costo total de la compra.\n",
    "\n",
    "            - Utiliza un bucle `while` para permitir al cliente realizar múltiples compras.\n",
    "\n",
    "            - Muestra el inventario y solicita al cliente ingresar el nombre del producto que desea comprar.\n",
    "\n",
    "            - Registra los productos seleccionados en un carrito y actualiza el inventario.\n",
    "\n",
    "            - Calcula el costo total de la compra.\n",
    "\n",
    "        📌 A partir de este punto los ejercicios son voluntarios:\n",
    "        \n",
    "\n",
    "        8. `procesar_pago(self)`: Procesa el pago de una compra, calcula el cambio y muestra un mensaje de confirmación.\n",
    "\n",
    "            - Utiliza un bloque `try...except` para manejar excepciones.\n",
    "\n",
    "            - Solicita al cliente ingresar la cantidad total y la cantidad de pago usando un input.\n",
    "\n",
    "            - Calcula el cambio y muestra un mensaje de pago exitoso o un error en caso de monto insuficiente.\n",
    "\n",
    "        9. `agregar_cliente(self, nombre, email)`: Agrega un nuevo cliente al registro de clientes. Debe recibir el nombre y el correo electrónico del cliente como parámetros.\n",
    "\n",
    "            - Agrega un cliente al diccionario de clientes con su nombre y correo electrónico.\n",
    "\n",
    "        10. `ver_clientes(self)`: Muestra la lista de clientes registrados con sus nombres y correos electrónicos.\n",
    "\n",
    "            - Utiliza un bucle `for` para recorrer la base de datos de clientes.\n",
    "\n",
    "            - Imprime los detalles de cada cliente (nombre y correo electrónico).\n",
    "\n",
    "        11. `registrar_compra(self, nombre_cliente, carrito)`: Registra una compra para un cliente, actualiza las ventas totales y agrega la compra al historial del cliente. Debe recibir el nombre del cliente y el carrito de compras como parámetros.\n",
    "\n",
    "            - Busca al cliente en el diccionario de clientes.\n",
    "\n",
    "            - Si el cliente no esta en el diccionario de clientes, muestra que no se puede realizar la acción por que el cliente no está en el diccionario. \n",
    "\n",
    "            - Calcula el total de la compra y registra la compra, incluyendo los productos y el total.\n",
    "\n",
    "            - Ejemplo:\n",
    "\n",
    "                ```python\n",
    "                carrito_cliente1 = {\"Camisa\": {\"precio\": 20, \"cantidad\": 3}}\n",
    "                tienda.registrar_compra(\"Cliente1\", carrito_cliente1)\n",
    "                ```\n",
    "\n",
    "        12. `ver_compras_cliente(self, nombre_cliente)`: Muestra el historial de compras de un cliente. Debe recibir el nombre del cliente como parámetro.\n",
    "\n",
    "            - Busca al cliente en el diccionario de clientes.\n",
    "\n",
    "            - Muestra las compras realizadas por el cliente, incluyendo detalles de productos y totales.\n",
    "\n",
    "        13. `calcular_ventas_totales(self)`: Muestra las ventas totales de la tienda.\n",
    "\n",
    "            - Suma los totales de todas las compras realizadas y muestra el total de ventas totales en la tienda.\n",
    "\n",
    "- Instrucciones Adicionales:\n",
    "\n",
    "    - Debes crear instancias de la clase `TiendaOnline` y probar cada uno de los métodos para demostrar que funcionan correctamente.\n"
   ]
  },
  {
   "cell_type": "code",
   "execution_count": 162,
   "metadata": {},
   "outputs": [],
   "source": [
    "class Onlineshop:\n",
    "    \n",
    "    def __init__(self, name):\n",
    "\n",
    "        self.name = name\n",
    "        self.inventory = []\n",
    "        self.clients = {}\n",
    "        self.total_sales = 0.0 \n",
    "\n",
    "    def adding_products(self, name, price, quantity):\n",
    "        \n",
    "        \"\"\"This method adds products and updates existing stock\"\"\"\n",
    "\n",
    "        exists = False # comprobar si la value \"name\" de cada diccionario coincide con el producto que quiero añadir.\n",
    "\n",
    "        for product in self.inventory: # iterando cada diccionario de la lista\n",
    "            if name == product['name']: # comparando value de \"name\" en cada diccionario\n",
    "                exists = True\n",
    "                product['quantity'] += quantity\n",
    "                print(\"The product already exists\")\n",
    "                break # paro bucle para que deje de iterar\n",
    "        if exists == False: # si el nombre no coincide hago un append del diccionario al inventario\n",
    "            self.inventory.append({'name': name, 'price': price, 'quantity': quantity})\n",
    "    \n",
    "    def see_inventory(self):\n",
    "\n",
    "        \"\"\"This method returns a list of all products, prices and quantity in stock\"\"\"\n",
    "\n",
    "        for product in self.inventory:\n",
    "            print(f\"The inventory contains {self.inventory}\")\n",
    "            break\n",
    "    \n",
    "    def search_product(self, name):\n",
    "\n",
    "         \"\"\"This method searches for a particula product and returns a dictionary with price and quantity. \"\"\"\n",
    "         \n",
    "         for product in self.inventory:\n",
    "            if name in product['name']: # si el nombre del producto que quiero buscar coincide con el nombre del valor del diccionario para la key \"name\", enseña el producto.\n",
    "                print(product) \n",
    "                break\n",
    "         if name not in product['name']:\n",
    "            print(f\"The product {name} is not in the inventory\") \n",
    "    \n",
    "    def upade_stock(self, name, quantity):\n",
    "\n",
    "        \"\"\"This method searches for a particula product and returns a #dictionary with price and upadted quantity.\"\"\"\n",
    "\n",
    "        exists = False\n",
    "\n",
    "        for product in self.inventory:\n",
    "            if name == product['name']:\n",
    "                exists = True\n",
    "                product['quantity'] += quantity\n",
    "                break\n",
    "        if exists == False:\n",
    "            print(f\"The product {name} does not exist in the inventory.\")\n",
    "    \n",
    "    def delete_product(self, name):\n",
    "\n",
    "        \"\"\"This method searches for a particula product and deletes it from the inventory.\"\"\"\n",
    "\n",
    "        exists = False\n",
    "\n",
    "        for product in self.inventory:\n",
    "            if name == product['name']:\n",
    "                exists = True\n",
    "                self.inventory.remove(product)\n",
    "                break\n",
    "\n",
    "        if exists == False:\n",
    "            print(f\"The product {name} does not exist in the inventory\")\n",
    "    \n",
    "    def calculate_price(self):\n",
    "\n",
    "        \"\"\"This method calculates the total value for the inventory.\"\"\"\n",
    "\n",
    "        total_price = 0\n",
    "\n",
    "        for product in self.inventory:\n",
    "            total_price += (product['quantity'] * product['price']) \n",
    "        return total_price\n",
    "    \n",
    "    #def purchase(self):\n",
    "\n",
    "        \"\"\"This method allows the user to purchase items\"\"\"\n",
    "        \n",
    "        self.inventory()\n",
    "        shopping_cart = []\n",
    "        total_cost = 0\n",
    "        while True: #REVIEW\n",
    "            for product in self.inventory:\n",
    "                product_buyer = input(\"Please select the product you wish to purchase and type in the name\").strip().lower()\n",
    "                quantity = int(input(\"¿How many items would you like to purchase?\"))\n",
    "                if product_buyer in product['name']: \n",
    "                    product['quantity'] -= quantity\n",
    "                    shopping_cart.append((product[\"name\"], product['quantity'])) #se debería añadir a la lista reemplazando el producto si ya está y actualizando la cantidad.x                \n",
    "                if product['quantity'] < quantity:\n",
    "                    print(f\"Apologies, we currently don't have enough stock for product {product['name']}.\")\n",
    "                self.see_inventory()\n",
    "                for item in shopping_cart:\n",
    "                    if item[0] == product['name']:\n",
    "                        item[1] -= quantity\n",
    "                        if item[1] < 0:\n",
    "                            item[1] == 0\n",
    "                    print(shopping_cart)\n",
    "                    break\n",
    "                if not product in self.inventory:\n",
    "                    print (f\"Apologies, we currently don't have the product {product['name']} in stock.\")\n",
    "                \n",
    "            continue_shopping = input(\"Would you like to add other items to your shopping cart? yes/no\").strip().lower()\n",
    "            if continue_shopping != \"yes\":\n",
    "                break    \n",
    "           "
   ]
  },
  {
   "cell_type": "code",
   "execution_count": 163,
   "metadata": {},
   "outputs": [],
   "source": [
    "Tea_store = Onlineshop(\"Tea Store\")"
   ]
  },
  {
   "cell_type": "code",
   "execution_count": 166,
   "metadata": {},
   "outputs": [],
   "source": [
    "Tea_store.adding_products(\"black tea\", 3, 150)"
   ]
  },
  {
   "cell_type": "code",
   "execution_count": 167,
   "metadata": {},
   "outputs": [
    {
     "data": {
      "text/plain": [
       "[{'name': 'green tea', 'price': 3, 'quantity': 150},\n",
       " {'name': 'black tea', 'price': 3, 'quantity': 150}]"
      ]
     },
     "execution_count": 167,
     "metadata": {},
     "output_type": "execute_result"
    }
   ],
   "source": [
    "Tea_store.inventory"
   ]
  },
  {
   "cell_type": "code",
   "execution_count": 168,
   "metadata": {},
   "outputs": [
    {
     "name": "stdout",
     "output_type": "stream",
     "text": [
      "The inventory contains [{'name': 'green tea', 'price': 3, 'quantity': 150}, {'name': 'black tea', 'price': 3, 'quantity': 150}]\n"
     ]
    }
   ],
   "source": [
    "Tea_store.see_inventory()"
   ]
  },
  {
   "cell_type": "code",
   "execution_count": 170,
   "metadata": {},
   "outputs": [
    {
     "name": "stdout",
     "output_type": "stream",
     "text": [
      "The product white tea is not in the inventory\n"
     ]
    }
   ],
   "source": [
    "Tea_store.search_product(\"white tea\")"
   ]
  },
  {
   "cell_type": "code",
   "execution_count": 171,
   "metadata": {},
   "outputs": [],
   "source": [
    "Tea_store.upade_stock(\"green tea\", 10)"
   ]
  },
  {
   "cell_type": "code",
   "execution_count": 172,
   "metadata": {},
   "outputs": [
    {
     "name": "stdout",
     "output_type": "stream",
     "text": [
      "The inventory contains [{'name': 'green tea', 'price': 3, 'quantity': 160}, {'name': 'black tea', 'price': 3, 'quantity': 150}]\n"
     ]
    }
   ],
   "source": [
    "Tea_store.see_inventory()"
   ]
  },
  {
   "cell_type": "code",
   "execution_count": 173,
   "metadata": {},
   "outputs": [],
   "source": [
    "Tea_store.delete_product('green tea')"
   ]
  },
  {
   "cell_type": "code",
   "execution_count": 174,
   "metadata": {},
   "outputs": [
    {
     "name": "stdout",
     "output_type": "stream",
     "text": [
      "The inventory contains [{'name': 'black tea', 'price': 3, 'quantity': 150}]\n"
     ]
    }
   ],
   "source": [
    "Tea_store.see_inventory()"
   ]
  },
  {
   "cell_type": "code",
   "execution_count": 175,
   "metadata": {},
   "outputs": [
    {
     "data": {
      "text/plain": [
       "450"
      ]
     },
     "execution_count": 175,
     "metadata": {},
     "output_type": "execute_result"
    }
   ],
   "source": [
    "Tea_store.calculate_price()"
   ]
  },
  {
   "cell_type": "code",
   "execution_count": 133,
   "metadata": {},
   "outputs": [
    {
     "ename": "AttributeError",
     "evalue": "'Onlineshop' object has no attribute 'purchase'",
     "output_type": "error",
     "traceback": [
      "\u001b[0;31m---------------------------------------------------------------------------\u001b[0m",
      "\u001b[0;31mAttributeError\u001b[0m                            Traceback (most recent call last)",
      "Cell \u001b[0;32mIn[133], line 1\u001b[0m\n\u001b[0;32m----> 1\u001b[0m \u001b[43mTea_store\u001b[49m\u001b[38;5;241;43m.\u001b[39;49m\u001b[43mpurchase\u001b[49m()\n",
      "\u001b[0;31mAttributeError\u001b[0m: 'Onlineshop' object has no attribute 'purchase'"
     ]
    }
   ],
   "source": [
    "Tea_store.purchase()"
   ]
  }
 ],
 "metadata": {
  "kernelspec": {
   "display_name": "Python 3",
   "language": "python",
   "name": "python3"
  },
  "language_info": {
   "codemirror_mode": {
    "name": "ipython",
    "version": 3
   },
   "file_extension": ".py",
   "mimetype": "text/x-python",
   "name": "python",
   "nbconvert_exporter": "python",
   "pygments_lexer": "ipython3",
   "version": "3.9.6"
  }
 },
 "nbformat": 4,
 "nbformat_minor": 2
}

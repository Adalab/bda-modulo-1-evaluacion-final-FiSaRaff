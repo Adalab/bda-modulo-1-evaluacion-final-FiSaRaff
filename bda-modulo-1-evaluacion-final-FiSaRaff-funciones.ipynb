{
 "cells": [
  {
   "cell_type": "markdown",
   "metadata": {},
   "source": [
    "1. `agregar_producto(self, nombre, precio, cantidad)`: Este método agrega un producto al inventario o actualiza su cantidad si ya existe. Debe recibir el nombre, precio y cantidad del producto como parámetros. \n",
    "\n",
    "            - Itera a través del inventario y compara los nombres de los productos con el nombre proporcionado.\n",
    "\n",
    "            - Si el producto ya existe, actualiza la cantidad.\n",
    "\n",
    "            - Si no existe, agrega un nuevo producto al inventario."
   ]
  },
  {
   "cell_type": "code",
   "execution_count": 22,
   "metadata": {},
   "outputs": [
    {
     "name": "stdout",
     "output_type": "stream",
     "text": [
      "El producto ya existe\n",
      "[{'nombre': 'Camisa', 'precio': 20, 'cantidad': 70}, {'nombre': 'Pantalón', 'precio': 30, 'cantidad': 30}]\n"
     ]
    }
   ],
   "source": [
    "Inventario = [{'nombre': 'Camisa', 'precio': 20, 'cantidad': 40},\n",
    "              {'nombre': 'Pantalón', 'precio': 30, 'cantidad': 30}]\n",
    "Producto1 = {'nombre': 'Camisa', 'precio': 30, 'cantidad': 30}\n",
    "\n",
    "existe = False # comprobar si la value \"nombre\" de cada diccionario coincide\n",
    "\n",
    "for producto in Inventario: # iterando cada diccionario de la lista \n",
    "        if Producto1['nombre'] == producto['nombre']:\n",
    "            existe = True # comparando value de \"nombre\" en cada diccionario\n",
    "            producto['cantidad'] += Producto1['cantidad']\n",
    "            print(\"El producto ya existe\")\n",
    "            print(Inventario)\n",
    "        break #paro bucle para que deje de iterar\n",
    "if existe == False: # si no pasa nada de de lo de arriba, hago un append del diccionario al Inventario\n",
    "    Inventario.append(Producto1)\n",
    "    print(Inventario)"
   ]
  },
  {
   "cell_type": "markdown",
   "metadata": {},
   "source": [
    "2. `ver_inventario(self)`: Muestra el inventario de productos con sus detalles.\n",
    "\n",
    "            - Utiliza un bucle `for` para recorrer el inventario.\n",
    "\n",
    "            - Imprime los detalles (nombre, precio, cantidad) de cada producto.\n",
    "\n",
    "            - Debería verse:\n",
    "\n",
    "                ```python\n",
    "                Nombre: Camisa, Precio: $20, Cantidad: 50\n",
    "                Nombre: Pantalón, Precio: $30, Cantidad: 30\n",
    "                Nombre: Zapatos, Precio: $50, Cantidad: 40\n",
    "                Nombre: Camisa, Precio: $20, Cantidad: 50"
   ]
  },
  {
   "cell_type": "code",
   "execution_count": 14,
   "metadata": {},
   "outputs": [
    {
     "name": "stdout",
     "output_type": "stream",
     "text": [
      "{'nombre': 'Camisa', 'precio': 20, 'cantidad': 40}\n",
      "{'nombre': 'Pantalón', 'precio': 30, 'cantidad': 30}\n"
     ]
    }
   ],
   "source": [
    "Inventario = [{'nombre': 'Camisa', 'precio': 20, 'cantidad': 40},\n",
    "              {'nombre': 'Pantalón', 'precio': 30, 'cantidad': 30}]\n",
    "\n",
    "for productos in Inventario:\n",
    "    print(productos)\n"
   ]
  }
 ],
 "metadata": {
  "kernelspec": {
   "display_name": "Python 3",
   "language": "python",
   "name": "python3"
  },
  "language_info": {
   "codemirror_mode": {
    "name": "ipython",
    "version": 3
   },
   "file_extension": ".py",
   "mimetype": "text/x-python",
   "name": "python",
   "nbconvert_exporter": "python",
   "pygments_lexer": "ipython3",
   "version": "3.9.6"
  }
 },
 "nbformat": 4,
 "nbformat_minor": 2
}

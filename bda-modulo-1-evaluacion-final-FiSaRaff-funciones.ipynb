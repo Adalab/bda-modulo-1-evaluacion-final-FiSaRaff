{
 "cells": [
  {
   "cell_type": "markdown",
   "metadata": {},
   "source": [
    "1. `agregar_producto(self, nombre, precio, cantidad)`: Este método agrega un producto al inventario o actualiza su cantidad si ya existe. Debe recibir el nombre, precio y cantidad del producto como parámetros. \n",
    "\n",
    "            - Itera a través del inventario y compara los nombres de los productos con el nombre proporcionado.\n",
    "\n",
    "            - Si el producto ya existe, actualiza la cantidad.\n",
    "\n",
    "            - Si no existe, agrega un nuevo producto al inventario."
   ]
  },
  {
   "cell_type": "code",
   "execution_count": 76,
   "metadata": {},
   "outputs": [],
   "source": [
    "inventario0 = [{'nombre': 'Camisa', 'precio': 20, 'cantidad': 40}]\n",
    "\n",
    "def adding_products(nombre, precio, cantidad):\n",
    "        \n",
    "        existe = False # comprobar si la value \"nombre\" de cada diccionario coincide\n",
    "        \n",
    "        for producto in inventario0: # iterando cada diccionario de la lista  \n",
    "\n",
    "            if nombre == producto['nombre']: # comparando value de \"nombre\" en cada diccionario\n",
    "                producto['cantidad'] += cantidad\n",
    "                existe = True\n",
    "                break #paro bucle para que deje de iterar\n",
    "\n",
    "        if existe == False: # si no pasa nada de de lo de arriba, hago un append del diccionario al Inventario\n",
    "            inventario0.append({'nombre': nombre, 'precio': precio, 'cantidad': cantidad})      \n",
    "        \n",
    "        return inventario0   "
   ]
  },
  {
   "cell_type": "code",
   "execution_count": 78,
   "metadata": {},
   "outputs": [
    {
     "name": "stdout",
     "output_type": "stream",
     "text": [
      "[{'nombre': 'Camisa', 'precio': 20, 'cantidad': 90}, {'nombre': 'calcetines', 'precio': 5, 'cantidad': 100}]\n"
     ]
    }
   ],
   "source": [
    "inventario_actualizado = adding_products(\"calcetines\", 5, 100)\n",
    "print(inventario_actualizado)"
   ]
  },
  {
   "cell_type": "code",
   "execution_count": 79,
   "metadata": {},
   "outputs": [
    {
     "name": "stdout",
     "output_type": "stream",
     "text": [
      "[{'nombre': 'Camisa', 'precio': 20, 'cantidad': 90}, {'nombre': 'calcetines', 'precio': 5, 'cantidad': 100}, {'nombre': 'pantalón', 'precio': 30, 'cantidad': 100}]\n"
     ]
    }
   ],
   "source": [
    "inventario_actualizado = adding_products(\"pantalón\", 30, 100)\n",
    "print(inventario_actualizado)"
   ]
  },
  {
   "cell_type": "code",
   "execution_count": 80,
   "metadata": {},
   "outputs": [
    {
     "name": "stdout",
     "output_type": "stream",
     "text": [
      "[{'nombre': 'Camisa', 'precio': 20, 'cantidad': 90}, {'nombre': 'calcetines', 'precio': 5, 'cantidad': 100}, {'nombre': 'pantalón', 'precio': 30, 'cantidad': 100}]\n"
     ]
    }
   ],
   "source": [
    "inventario_actualizado = adding_products(\"pantalón\", 30, 0)\n",
    "print(inventario_actualizado)"
   ]
  },
  {
   "cell_type": "markdown",
   "metadata": {},
   "source": [
    "2. `ver_inventario(self)`: Muestra el inventario de productos con sus detalles.\n",
    "\n",
    "            - Utiliza un bucle `for` para recorrer el inventario.\n",
    "\n",
    "            - Imprime los detalles (nombre, precio, cantidad) de cada producto.\n",
    "\n",
    "            - Debería verse:\n",
    "\n",
    "                ```python\n",
    "                Nombre: Camisa, Precio: $20, Cantidad: 50\n",
    "                Nombre: Pantalón, Precio: $30, Cantidad: 30\n",
    "                Nombre: Zapatos, Precio: $50, Cantidad: 40\n",
    "                Nombre: Camisa, Precio: $20, Cantidad: 50"
   ]
  },
  {
   "cell_type": "code",
   "execution_count": 81,
   "metadata": {},
   "outputs": [],
   "source": [
    "def ver_inventario():\n",
    "\n",
    "    for producto in inventario0:\n",
    "        return(inventario0)"
   ]
  },
  {
   "cell_type": "code",
   "execution_count": 82,
   "metadata": {},
   "outputs": [
    {
     "data": {
      "text/plain": [
       "[{'nombre': 'Camisa', 'precio': 20, 'cantidad': 90},\n",
       " {'nombre': 'calcetines', 'precio': 5, 'cantidad': 100},\n",
       " {'nombre': 'pantalón', 'precio': 30, 'cantidad': 100}]"
      ]
     },
     "execution_count": 82,
     "metadata": {},
     "output_type": "execute_result"
    }
   ],
   "source": [
    "ver_inventario()"
   ]
  },
  {
   "cell_type": "markdown",
   "metadata": {},
   "source": [
    "3. `buscar_producto(self, nombre)`: Busca un producto en el inventario por nombre y muestra sus detalles si se encuentra. Debe recibir el nombre del producto como parámetro.\n",
    "\n",
    "            - Utiliza un bucle `for` para recorrer el inventario.\n",
    "\n",
    "            - Compara los nombres de los productos con el nombre proporcionado.\n",
    "\n",
    "            - Si se encuentra el producto, imprime sus detalles.\n"
   ]
  },
  {
   "cell_type": "code",
   "execution_count": 83,
   "metadata": {},
   "outputs": [],
   "source": [
    "def buscar_producto(nombre):\n",
    "\n",
    "    for producto in inventario0:\n",
    "        if nombre == producto['nombre']:\n",
    "            return producto\n",
    "\n"
   ]
  },
  {
   "cell_type": "code",
   "execution_count": 84,
   "metadata": {},
   "outputs": [
    {
     "data": {
      "text/plain": [
       "{'nombre': 'pantalón', 'precio': 30, 'cantidad': 100}"
      ]
     },
     "execution_count": 84,
     "metadata": {},
     "output_type": "execute_result"
    }
   ],
   "source": [
    "buscar_producto('pantalón')"
   ]
  },
  {
   "cell_type": "markdown",
   "metadata": {},
   "source": [
    " 4. `actualizar_stock(self, nombre, cantidad)`: Actualiza el stock de un producto en el inventario. Debe recibir el nombre del producto y la cantidad a agregar o quitar como parámetros.\n",
    "\n",
    "           - Utiliza un bucle `for` para recorrer el inventario.\n",
    "\n",
    "           - Busca el producto por nombre.\n",
    "\n",
    "           - Actualiza la cantidad según la entrada del usuario.\n",
    "\n",
    "           - Si el producto no esta en el inventario muestra un mensaje indicándolo. "
   ]
  },
  {
   "cell_type": "code",
   "execution_count": 85,
   "metadata": {},
   "outputs": [],
   "source": [
    "def actualizar_stock(nombre, cantidad):\n",
    "\n",
    "    existe = False\n",
    "\n",
    "    for producto in inventario0:\n",
    "        if nombre == producto['nombre']:\n",
    "            existe = True\n",
    "            producto['cantidad'] += cantidad\n",
    "            break\n",
    "\n",
    "    if existe == False:\n",
    "        print(f\"El producto llamado {nombre} no existe en el inventario\")\n",
    "    \n",
    "    return inventario0\n"
   ]
  },
  {
   "cell_type": "code",
   "execution_count": 86,
   "metadata": {},
   "outputs": [
    {
     "data": {
      "text/plain": [
       "[{'nombre': 'Camisa', 'precio': 20, 'cantidad': 90},\n",
       " {'nombre': 'calcetines', 'precio': 5, 'cantidad': 600},\n",
       " {'nombre': 'pantalón', 'precio': 30, 'cantidad': 100}]"
      ]
     },
     "execution_count": 86,
     "metadata": {},
     "output_type": "execute_result"
    }
   ],
   "source": [
    "actualizar_stock(\"calcetines\", 500)"
   ]
  },
  {
   "cell_type": "markdown",
   "metadata": {},
   "source": [
    "5. `eliminar_producto(self, nombre)`: Elimina un producto del inventario por nombre. Debe recibir el nombre del producto como parámetro.\n",
    "\n",
    "            - Utiliza un bucle `for` para recorrer el inventario.\n",
    "\n",
    "            - Busca el producto por nombre.\n",
    "\n",
    "            - Elimina el producto del inventario si existe.\n",
    "\n",
    "            - Si el producto no esta en el inventario muestra un mensaje indicándolo. "
   ]
  },
  {
   "cell_type": "code",
   "execution_count": 87,
   "metadata": {},
   "outputs": [
    {
     "data": {
      "text/plain": [
       "[{'nombre': 'Camisa', 'precio': 20, 'cantidad': 90},\n",
       " {'nombre': 'calcetines', 'precio': 5, 'cantidad': 600},\n",
       " {'nombre': 'pantalón', 'precio': 30, 'cantidad': 100}]"
      ]
     },
     "execution_count": 87,
     "metadata": {},
     "output_type": "execute_result"
    }
   ],
   "source": [
    "ver_inventario()"
   ]
  },
  {
   "cell_type": "code",
   "execution_count": 88,
   "metadata": {},
   "outputs": [],
   "source": [
    "def eliminar_producto(nombre):\n",
    "\n",
    "    existe = False\n",
    "\n",
    "    for producto in inventario0:\n",
    "        if nombre == producto['nombre']:\n",
    "            existe = True\n",
    "            inventario0.remove(producto)\n",
    "            break\n",
    "\n",
    "    if existe == False:\n",
    "        print(f\"El producto llamado {nombre} no existe en el inventario\")\n",
    "        "
   ]
  },
  {
   "cell_type": "code",
   "execution_count": 89,
   "metadata": {},
   "outputs": [
    {
     "name": "stdout",
     "output_type": "stream",
     "text": [
      "El producto llamado jersey no existe en el inventario\n"
     ]
    }
   ],
   "source": [
    "eliminar_producto(\"jersey\")"
   ]
  },
  {
   "cell_type": "code",
   "execution_count": 90,
   "metadata": {},
   "outputs": [
    {
     "data": {
      "text/plain": [
       "[{'nombre': 'Camisa', 'precio': 20, 'cantidad': 90},\n",
       " {'nombre': 'calcetines', 'precio': 5, 'cantidad': 600},\n",
       " {'nombre': 'pantalón', 'precio': 30, 'cantidad': 100}]"
      ]
     },
     "execution_count": 90,
     "metadata": {},
     "output_type": "execute_result"
    }
   ],
   "source": [
    "ver_inventario()"
   ]
  },
  {
   "cell_type": "markdown",
   "metadata": {},
   "source": [
    " 6. `calcular_valor_inventario(self)`: Calcula y muestra el valor total del inventario.\n",
    "\n",
    "            - Utiliza un bucle for para calcular el valor total del inventario.\n",
    "\n",
    "            - Itera a través del inventario y suma el valor de cada producto (precio x cantidad). Es decir, calcula el valor total del inventario. Ejemplo:\n",
    "\n",
    "                ```python\n",
    "                # si tenemos 5 camisas que valen 5 euros \n",
    "                # y 10 calcetines que valen 1 euro\n",
    "                # este método te tiene que devolver: 35 euros\n",
    "\n",
    "                valor_camisas = 5 * 5\n",
    "                valor_calcetines = 10 * 1\n",
    "\n",
    "                valor_camisas + valor_calcetines = 35"
   ]
  },
  {
   "cell_type": "code",
   "execution_count": 91,
   "metadata": {},
   "outputs": [],
   "source": [
    "def calcular_valor_inventario():\n",
    "\n",
    "    total_precio = 0\n",
    "\n",
    "    for producto in inventario0:\n",
    "        total_precio += (producto['cantidad'] * producto['precio']) \n",
    "    return total_precio\n"
   ]
  },
  {
   "cell_type": "code",
   "execution_count": 92,
   "metadata": {},
   "outputs": [
    {
     "data": {
      "text/plain": [
       "7800"
      ]
     },
     "execution_count": 92,
     "metadata": {},
     "output_type": "execute_result"
    }
   ],
   "source": [
    "calcular_valor_inventario()"
   ]
  },
  {
   "cell_type": "markdown",
   "metadata": {},
   "source": [
    "\n",
    "        7. `realizar_compra(self)`: Permite a un cliente realizar una compra seleccionando productos del inventario. Debe interactuar con el cliente para seleccionar productos y calcular el costo total de la compra.\n",
    "\n",
    "            - Utiliza un bucle `while` para permitir al cliente realizar múltiples compras.\n",
    "\n",
    "            - Muestra el inventario y solicita al cliente ingresar el nombre del producto que desea comprar.\n",
    "\n",
    "            - Registra los productos seleccionados en un carrito y actualiza el inventario.\n",
    "\n",
    "            - Calcula el costo total de la compra."
   ]
  },
  {
   "cell_type": "code",
   "execution_count": 122,
   "metadata": {},
   "outputs": [],
   "source": [
    "def realizar_compra():\n",
    "\n",
    "    carrito = []\n",
    "    coste_total = 0\n",
    "\n",
    "    while True:\n",
    "        print(inventario0)\n",
    "        nombre_producto = input(\"Selecciona el nombre del producto del inventario que deseas comprar\")\n",
    "        carrito.append(nombre_producto)\n",
    "        print(carrito)\n",
    "    \n"
   ]
  },
  {
   "cell_type": "code",
   "execution_count": 123,
   "metadata": {},
   "outputs": [
    {
     "name": "stdout",
     "output_type": "stream",
     "text": [
      "[{'nombre': 'Camisa', 'precio': 20, 'cantidad': 90}, {'nombre': 'calcetines', 'precio': 5, 'cantidad': 600}, {'nombre': 'pantalón', 'precio': 30, 'cantidad': 100}]\n",
      "['Camisa']\n"
     ]
    }
   ],
   "source": [
    "realizar_compra()"
   ]
  }
 ],
 "metadata": {
  "kernelspec": {
   "display_name": "Python 3",
   "language": "python",
   "name": "python3"
  },
  "language_info": {
   "codemirror_mode": {
    "name": "ipython",
    "version": 3
   },
   "file_extension": ".py",
   "mimetype": "text/x-python",
   "name": "python",
   "nbconvert_exporter": "python",
   "pygments_lexer": "ipython3",
   "version": "3.9.6"
  }
 },
 "nbformat": 4,
 "nbformat_minor": 2
}
